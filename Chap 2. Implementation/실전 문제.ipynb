{
 "cells": [
  {
   "cell_type": "markdown",
   "metadata": {},
   "source": [
    "# 상하좌우"
   ]
  },
  {
   "cell_type": "code",
   "execution_count": 7,
   "metadata": {},
   "outputs": [
    {
     "name": "stdout",
     "output_type": "stream",
     "text": [
      "5\n",
      "R R R U D D\n",
      "3 4\n"
     ]
    }
   ],
   "source": [
    "n = int(input())\n",
    "data = list(input().split())\n",
    "\n",
    "row = 0\n",
    "col = 0\n",
    "for x in data:\n",
    "    if x == 'D':\n",
    "        row += 1\n",
    "        if row > n-1:\n",
    "            row = n-1\n",
    "    elif x == 'U':\n",
    "        row -= 1\n",
    "        if row < 0:\n",
    "            row = 0\n",
    "    elif x == 'L':\n",
    "        col -= 1\n",
    "        if col < 0:\n",
    "            col = 0\n",
    "    elif x == 'R':\n",
    "        col += 1\n",
    "        if col > n-1:\n",
    "            col = n-1\n",
    "            \n",
    "print('{} {}'.format(row + 1, col + 1))"
   ]
  },
  {
   "cell_type": "code",
   "execution_count": 8,
   "metadata": {},
   "outputs": [
    {
     "name": "stdout",
     "output_type": "stream",
     "text": [
      "5\n",
      "R R R U D D\n",
      "3 4\n"
     ]
    }
   ],
   "source": [
    "# second answer\n",
    "n = int(input())\n",
    "x, y = 1, 1\n",
    "plans = input().split()\n",
    "\n",
    "# L, R, U, D에 따른 이동 방향\n",
    "dx = [0, 0, -1, 1]\n",
    "dy = [-1, 1, 0, 0]\n",
    "move_types = ['L', 'R', 'U', 'D']\n",
    "\n",
    "for plan in plans:\n",
    "    # 시간 복잡도가 넉넉한 편이라 가능한 방법???\n",
    "    for i in range(len(move_types)):\n",
    "        if plan == move_types[i]:\n",
    "            nx = x + dx[i]\n",
    "            ny = y + dy[i]\n",
    "    # 이 조건에 걸리면 뒤의 코드 생략후 다음 반복문 진행\n",
    "    if nx < 1 or ny < 1 or nx > n or ny > n:\n",
    "        continue\n",
    "    x, y = nx, ny\n",
    "    \n",
    "print(x, y)"
   ]
  },
  {
   "cell_type": "code",
   "execution_count": 9,
   "metadata": {},
   "outputs": [
    {
     "name": "stdout",
     "output_type": "stream",
     "text": [
      "0\n",
      "1\n",
      "2\n",
      "4\n"
     ]
    }
   ],
   "source": [
    "for i in range(5):\n",
    "    if i == 3:\n",
    "        continue\n",
    "    print(i)"
   ]
  },
  {
   "cell_type": "code",
   "execution_count": 10,
   "metadata": {},
   "outputs": [
    {
     "name": "stdout",
     "output_type": "stream",
     "text": [
      "0\n",
      "1\n",
      "2\n"
     ]
    }
   ],
   "source": [
    "for i in range(5):\n",
    "    if i == 3:\n",
    "        break\n",
    "    print(i)"
   ]
  },
  {
   "cell_type": "markdown",
   "metadata": {},
   "source": [
    "# 시각"
   ]
  },
  {
   "cell_type": "code",
   "execution_count": 11,
   "metadata": {},
   "outputs": [
    {
     "name": "stdout",
     "output_type": "stream",
     "text": [
      "5\n",
      "11475\n"
     ]
    }
   ],
   "source": [
    "n = int(input())\n",
    "\n",
    "ans = 0\n",
    "while(n + 1 > 0):\n",
    "    if n == 3 or n == 13:\n",
    "        ans += 3600\n",
    "    else:\n",
    "        ans += 1575\n",
    "    n -= 1\n",
    "\n",
    "print(ans)"
   ]
  },
  {
   "cell_type": "code",
   "execution_count": 12,
   "metadata": {},
   "outputs": [
    {
     "name": "stdout",
     "output_type": "stream",
     "text": [
      "5\n",
      "11475\n"
     ]
    }
   ],
   "source": [
    "# second answer\n",
    "# 완전 탐색\n",
    "\n",
    "n = int(input())\n",
    "\n",
    "ans = 0\n",
    "for i in range(n+1):\n",
    "    for j in range(60):\n",
    "        for k in range(60):\n",
    "            time = str(i) + str(j) + str(k)\n",
    "            if '3' in time:\n",
    "                ans += 1\n",
    "                \n",
    "print(ans)"
   ]
  },
  {
   "cell_type": "markdown",
   "metadata": {},
   "source": [
    "# 왕실의 나이트"
   ]
  },
  {
   "cell_type": "code",
   "execution_count": 16,
   "metadata": {},
   "outputs": [
    {
     "name": "stdout",
     "output_type": "stream",
     "text": [
      "c2\n",
      "6\n"
     ]
    }
   ],
   "source": [
    "x = input()\n",
    "col = ord(x[0]) - 96\n",
    "row = int(x[1])\n",
    "\n",
    "ans = 0\n",
    "move_col = [-2, -2, 2, 2, -1, -1, 1, 1]\n",
    "move_row = [-1, 1, -1, 1, 2, -2, 2, -2]\n",
    "\n",
    "for c, r in zip(move_col, move_row):\n",
    "    if col + c < 1 or col + c > 8 or row + r < 1 or row + r > 8:\n",
    "        continue\n",
    "    else:\n",
    "        ans += 1\n",
    "\n",
    "print(ans)"
   ]
  },
  {
   "cell_type": "code",
   "execution_count": 13,
   "metadata": {},
   "outputs": [
    {
     "data": {
      "text/plain": [
       "97"
      ]
     },
     "execution_count": 13,
     "metadata": {},
     "output_type": "execute_result"
    }
   ],
   "source": [
    "ord('a')"
   ]
  },
  {
   "cell_type": "markdown",
   "metadata": {},
   "source": [
    "# 게임 개발"
   ]
  },
  {
   "cell_type": "code",
   "execution_count": null,
   "metadata": {},
   "outputs": [],
   "source": [
    "n, m = map(int, input().split())\n",
    "x, y, v = map(int, input().split())\n",
    "\n",
    "MAP = [[0] * m] * n\n",
    "for i in range(n):\n",
    "    data = list(map(int, input().split()))\n",
    "    for j in range(m):\n",
    "        MAP[i][j] = data[j]\n",
    "        \n",
    "vecs = [0, 1, 2, 3]\n",
    "ans = 0\n",
    "while(True):\n",
    "    "
   ]
  },
  {
   "cell_type": "code",
   "execution_count": null,
   "metadata": {},
   "outputs": [],
   "source": []
  },
  {
   "cell_type": "code",
   "execution_count": 27,
   "metadata": {},
   "outputs": [],
   "source": [
    "MAP = [[0] * 3 for _ in range(2)]"
   ]
  },
  {
   "cell_type": "code",
   "execution_count": 28,
   "metadata": {},
   "outputs": [
    {
     "data": {
      "text/plain": [
       "[[0, 0, 0], [0, 0, 0]]"
      ]
     },
     "execution_count": 28,
     "metadata": {},
     "output_type": "execute_result"
    }
   ],
   "source": [
    "MAP"
   ]
  },
  {
   "cell_type": "code",
   "execution_count": 23,
   "metadata": {},
   "outputs": [
    {
     "data": {
      "text/plain": [
       "0"
      ]
     },
     "execution_count": 23,
     "metadata": {},
     "output_type": "execute_result"
    }
   ],
   "source": [
    "MAP[0][2]"
   ]
  },
  {
   "cell_type": "code",
   "execution_count": null,
   "metadata": {},
   "outputs": [],
   "source": []
  }
 ],
 "metadata": {
  "kernelspec": {
   "display_name": "Python 3",
   "language": "python",
   "name": "python3"
  },
  "language_info": {
   "codemirror_mode": {
    "name": "ipython",
    "version": 3
   },
   "file_extension": ".py",
   "mimetype": "text/x-python",
   "name": "python",
   "nbconvert_exporter": "python",
   "pygments_lexer": "ipython3",
   "version": "3.8.3"
  }
 },
 "nbformat": 4,
 "nbformat_minor": 4
}
