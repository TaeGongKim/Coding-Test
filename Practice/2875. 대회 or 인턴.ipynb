{
 "cells": [
  {
   "cell_type": "code",
   "execution_count": 1,
   "metadata": {},
   "outputs": [
    {
     "name": "stdout",
     "output_type": "stream",
     "text": [
      "10 10 6\n",
      "4\n"
     ]
    }
   ],
   "source": [
    "n, m, k = map(int, input().split())\n",
    "\n",
    "# n/2 < m 인 상황 : 남학생이 남는 상황\n",
    "if n // 2 < m:\n",
    "    ans = n // 2\n",
    "    remainder = n - n // 2 * 2 + m - n // 2\n",
    "else:\n",
    "    ans = m\n",
    "    remainder = n - m*2\n",
    "\n",
    "while(remainder < k):\n",
    "    remainder += 3\n",
    "    ans -= 1\n",
    "    \n",
    "if ans < 0:\n",
    "    print(0)\n",
    "else:\n",
    "    print(ans)"
   ]
  },
  {
   "cell_type": "markdown",
   "metadata": {},
   "source": [
    "# 문제를 풀며 느꼈던 점"
   ]
  },
  {
   "cell_type": "markdown",
   "metadata": {},
   "source": [
    "> 처음 문제를 봤을 때는 막막했지만, 하나하나 따져가며 풀면서 해결해나감.  \n",
    "> remainder 계산하는 부분이 햇갈렸음.  "
   ]
  },
  {
   "cell_type": "markdown",
   "metadata": {},
   "source": [
    "# 다른 사람 정답 코드"
   ]
  },
  {
   "cell_type": "code",
   "execution_count": 2,
   "metadata": {},
   "outputs": [
    {
     "name": "stdout",
     "output_type": "stream",
     "text": [
      "10 10 6\n",
      "4\n"
     ]
    }
   ],
   "source": [
    "n,m,k=map(int,input().split())\n",
    "\n",
    "print(min(n//2,m,(n+m-k)//3))"
   ]
  },
  {
   "cell_type": "markdown",
   "metadata": {},
   "source": [
    "# ...."
   ]
  },
  {
   "cell_type": "markdown",
   "metadata": {},
   "source": [
    "> 허탈할 정도로 간단히 해결되는 문제였다...  \n",
    "> 왼쪽은 남학생이 충분히 많을 때를 커버하고, 중간은 여학생이 충분히 많을 때를 커버, 오른쪽은 둘 다 어중간하게 있을 경우를 커버한다."
   ]
  },
  {
   "cell_type": "code",
   "execution_count": 3,
   "metadata": {},
   "outputs": [
    {
     "name": "stdout",
     "output_type": "stream",
     "text": [
      "10 10 6\n",
      "4\n"
     ]
    }
   ],
   "source": [
    "a, b, c = map(int, input().split())\n",
    "while c > 0:\n",
    "    if a // 2 >= b:\n",
    "        a -= 1\n",
    "    else:\n",
    "        b -= 1\n",
    "    c -= 1\n",
    "print(min(a//2, b))"
   ]
  }
 ],
 "metadata": {
  "kernelspec": {
   "display_name": "Python 3",
   "language": "python",
   "name": "python3"
  },
  "language_info": {
   "codemirror_mode": {
    "name": "ipython",
    "version": 3
   },
   "file_extension": ".py",
   "mimetype": "text/x-python",
   "name": "python",
   "nbconvert_exporter": "python",
   "pygments_lexer": "ipython3",
   "version": "3.8.3"
  }
 },
 "nbformat": 4,
 "nbformat_minor": 4
}
