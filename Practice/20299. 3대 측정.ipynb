{
 "cells": [
  {
   "cell_type": "code",
   "execution_count": 5,
   "metadata": {},
   "outputs": [
    {
     "name": "stdout",
     "output_type": "stream",
     "text": [
      "5 5000 1600\n",
      "1621 1928 1809\n",
      "2300 2300 1499\n",
      "1805 1211 1699\n",
      "1600 1700 1800\n",
      "1792 1617 1830\n",
      "3\n",
      "1621 1928 1809 1600 1700 1800 1792 1617 1830\n"
     ]
    }
   ],
   "source": [
    "import sys\n",
    "\n",
    "n, k, l = map(int, input().split())\n",
    "ans_list = []\n",
    "ans = 0\n",
    "\n",
    "for _ in range(n):\n",
    "    # data = list(map(int, sys.stdin.readline().split()))\n",
    "    data = list(map(int, input().split()))\n",
    "    \n",
    "    if sum(data) >=k:\n",
    "        a = 0\n",
    "        for i in data:\n",
    "            if i >= l:\n",
    "                a += 1\n",
    "        if a == 3:\n",
    "            ans_list.extend(data)\n",
    "            ans += 1\n",
    "            \n",
    "print(ans)\n",
    "print(*ans_list, sep = ' ')"
   ]
  },
  {
   "cell_type": "markdown",
   "metadata": {},
   "source": [
    "# 문제 풀면서 느낀 점"
   ]
  },
  {
   "cell_type": "markdown",
   "metadata": {},
   "source": [
    "> n의 크기의 범위를 생각하지 못하여 시간초과 오류가 생겼었다.  \n",
    "> 이를 해결하기 위해 sys.stdin().readline() 메소드를 사용하였다.\n",
    "> extend 함수는 리스트를 이중 리스트로 추가되지 않고, 하나의 리스트로 추가한다.  \n",
    "> 마지막 print문에서 *표시와 sep 변수로 하나의 리스트를 띄어쓰기를 씌어 출력한다."
   ]
  },
  {
   "cell_type": "code",
   "execution_count": 1,
   "metadata": {},
   "outputs": [
    {
     "name": "stdout",
     "output_type": "stream",
     "text": [
      "5 5000 1600\n",
      "1621 1928 1809\n",
      "2300 2300 1499\n",
      "1805 1211 1699\n",
      "1600 1700 1800\n",
      "1792 1617 1830\n",
      "3\n",
      "1621 1928 1809 1600 1700 1800 1792 1617 1830\n"
     ]
    }
   ],
   "source": [
    "n, a, b = map(int, input().split())\n",
    "ans = []\n",
    "\n",
    "\n",
    "for i in range(n) :\n",
    "    x = list(map(int, input().split()))\n",
    "    if min(x) >= b and sum(x) >= a :\n",
    "        ans += x\n",
    "        \n",
    "print(len(ans)//3)\n",
    "print(' '.join(map(str, ans)))"
   ]
  },
  {
   "cell_type": "markdown",
   "metadata": {},
   "source": [
    "# 코드 수정 후"
   ]
  },
  {
   "cell_type": "markdown",
   "metadata": {},
   "source": [
    "> 이전 코드의 조건문을 min 함수와 and 조건문을 사용하여 한번에 처리하였다.  \n",
    "> 또한 list + 연산자를 이용하여 extend 효과를 나타냈으며, map 함수를 이용하여 이전 코드의 print 문을 수행하였다."
   ]
  },
  {
   "cell_type": "code",
   "execution_count": 4,
   "metadata": {},
   "outputs": [
    {
     "data": {
      "text/plain": [
       "[1792, 1617, 1830]"
      ]
     },
     "execution_count": 4,
     "metadata": {},
     "output_type": "execute_result"
    }
   ],
   "source": [
    "x"
   ]
  },
  {
   "cell_type": "code",
   "execution_count": 3,
   "metadata": {},
   "outputs": [
    {
     "data": {
      "text/plain": [
       "[1792, 1617, 1830, 1792, 1617, 1830]"
      ]
     },
     "execution_count": 3,
     "metadata": {},
     "output_type": "execute_result"
    }
   ],
   "source": [
    "x + x"
   ]
  }
 ],
 "metadata": {
  "kernelspec": {
   "display_name": "Python 3",
   "language": "python",
   "name": "python3"
  },
  "language_info": {
   "codemirror_mode": {
    "name": "ipython",
    "version": 3
   },
   "file_extension": ".py",
   "mimetype": "text/x-python",
   "name": "python",
   "nbconvert_exporter": "python",
   "pygments_lexer": "ipython3",
   "version": "3.8.3"
  }
 },
 "nbformat": 4,
 "nbformat_minor": 4
}
