{
 "cells": [
  {
   "cell_type": "code",
   "execution_count": 4,
   "metadata": {},
   "outputs": [
    {
     "name": "stdout",
     "output_type": "stream",
     "text": [
      "1 3\n",
      "WED\n"
     ]
    }
   ],
   "source": [
    "import calendar\n",
    "\n",
    "arrList = [\"MON\", \"TUE\", \"WED\", \"THU\", \"FRI\", \"SAT\", \"SUN\"]\n",
    "m, d = map(int, input().split())\n",
    "\n",
    "Day = calendar.weekday(2007, m, d)\n",
    "# Returns the day of the week (0 is Monday) for year (1970–…), month (1–12), day (1–31).\n",
    "\n",
    "print(arrList[Day])"
   ]
  },
  {
   "cell_type": "markdown",
   "metadata": {},
   "source": [
    "# calendar  module"
   ]
  },
  {
   "cell_type": "markdown",
   "metadata": {},
   "source": [
    "> calendar module의 weekday 메소드는 [year, month, day] 의 요일 index를 반환한다."
   ]
  }
 ],
 "metadata": {
  "kernelspec": {
   "display_name": "Python 3",
   "language": "python",
   "name": "python3"
  },
  "language_info": {
   "codemirror_mode": {
    "name": "ipython",
    "version": 3
   },
   "file_extension": ".py",
   "mimetype": "text/x-python",
   "name": "python",
   "nbconvert_exporter": "python",
   "pygments_lexer": "ipython3",
   "version": "3.8.3"
  }
 },
 "nbformat": 4,
 "nbformat_minor": 4
}
