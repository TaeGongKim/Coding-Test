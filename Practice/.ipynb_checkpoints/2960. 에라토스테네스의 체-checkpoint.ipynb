{
 "cells": [
  {
   "cell_type": "code",
   "execution_count": 1,
   "metadata": {},
   "outputs": [
    {
     "name": "stdout",
     "output_type": "stream",
     "text": [
      "10 7\n",
      "9\n"
     ]
    }
   ],
   "source": [
    "n, k = map(int, input().split())\n",
    "data = list(range(2, n + 1))\n",
    "remove = [] # 지워지는 수 저장 list\n",
    "\n",
    "for _ in range(k):\n",
    "    if data:\n",
    "        p = data[0] # 지우는 prime number\n",
    "        \n",
    "        # p의 배수 지우기\n",
    "        for j in range(1, data[-1]//p+1):\n",
    "            if p*j in data:\n",
    "                data.remove(p*j)\n",
    "                remove.append(p*j)\n",
    "    else:\n",
    "        break\n",
    "print(remove[k-1])"
   ]
  },
  {
   "cell_type": "markdown",
   "metadata": {},
   "source": [
    "# 에라토스테네스의 체"
   ]
  },
  {
   "cell_type": "markdown",
   "metadata": {},
   "source": [
    "> 가장 작은 소수를 하나씩 선택해나가며 소수의 배수들을 지워나가는 방식  \n",
    "> 문제에서는 에라토스테네스의 체를 구현하고 k번째로 지워지는 수를 출력하는 문제였다."
   ]
  },
  {
   "cell_type": "markdown",
   "metadata": {},
   "source": [
    "# 문제를 풀며 느꼈던 점"
   ]
  },
  {
   "cell_type": "markdown",
   "metadata": {},
   "source": [
    "> 문제를 잘 읽고 풀어야겠다.. (k번째로 선택되는 소수로 해석하였었음..)  \n",
    "> 현재 코드 상에서는 적어도 k개의 소수를 구하고 k번째로 지워지는 수를 출력하는데 while 문으로 변환하면 더 적은 시간으로 풀수 있을 듯.."
   ]
  },
  {
   "cell_type": "markdown",
   "metadata": {},
   "source": [
    "# 개선 코드"
   ]
  },
  {
   "cell_type": "code",
   "execution_count": 2,
   "metadata": {},
   "outputs": [
    {
     "name": "stdout",
     "output_type": "stream",
     "text": [
      "10 7\n",
      "9\n"
     ]
    }
   ],
   "source": [
    "n, k = map(int, input().split())\n",
    "data = list(range(2, n + 1))\n",
    "remove = [] # 지워지는 수 저장 list\n",
    "\n",
    "while(len(remove) < k):\n",
    "    p = data[0] # 지우는 prime number\n",
    "\n",
    "    # p의 배수 지우기\n",
    "    for j in range(1, data[-1]//p+1):\n",
    "        if p*j in data:\n",
    "            data.remove(p*j)\n",
    "            remove.append(p*j)\n",
    "            \n",
    "print(remove[k-1])"
   ]
  },
  {
   "cell_type": "code",
   "execution_count": null,
   "metadata": {},
   "outputs": [],
   "source": []
  }
 ],
 "metadata": {
  "kernelspec": {
   "display_name": "Python 3",
   "language": "python",
   "name": "python3"
  },
  "language_info": {
   "codemirror_mode": {
    "name": "ipython",
    "version": 3
   },
   "file_extension": ".py",
   "mimetype": "text/x-python",
   "name": "python",
   "nbconvert_exporter": "python",
   "pygments_lexer": "ipython3",
   "version": "3.8.3"
  }
 },
 "nbformat": 4,
 "nbformat_minor": 4
}
