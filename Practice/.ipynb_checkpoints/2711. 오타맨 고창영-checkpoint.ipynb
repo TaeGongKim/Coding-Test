{
 "cells": [
  {
   "cell_type": "code",
   "execution_count": 2,
   "metadata": {},
   "outputs": [
    {
     "name": "stdout",
     "output_type": "stream",
     "text": [
      "4\n",
      "4 MISSPELL\n",
      "MISPELL\n",
      "1 PROGRAMMING\n",
      "ROGRAMMING\n",
      "7 CONTEST\n",
      "CONTES\n",
      "3 BALLOON\n",
      "BALOON\n"
     ]
    }
   ],
   "source": [
    "n = int(input())\n",
    "\n",
    "for _ in range(n):\n",
    "    idx, data = input().split()\n",
    "    idx = int(idx) - 1\n",
    "    \n",
    "    ans = data[:idx] + data[idx+1:]\n",
    "    print(ans)"
   ]
  },
  {
   "cell_type": "markdown",
   "metadata": {},
   "source": [
    "# 문제 풀며 느꼈던 점"
   ]
  },
  {
   "cell_type": "markdown",
   "metadata": {},
   "source": [
    "> python 문자열 리스트의 인덱스 처리 관련 문제라는 것을 이해 하게 하는 문제였다."
   ]
  },
  {
   "cell_type": "code",
   "execution_count": null,
   "metadata": {},
   "outputs": [],
   "source": []
  }
 ],
 "metadata": {
  "kernelspec": {
   "display_name": "Python 3",
   "language": "python",
   "name": "python3"
  },
  "language_info": {
   "codemirror_mode": {
    "name": "ipython",
    "version": 3
   },
   "file_extension": ".py",
   "mimetype": "text/x-python",
   "name": "python",
   "nbconvert_exporter": "python",
   "pygments_lexer": "ipython3",
   "version": "3.8.3"
  }
 },
 "nbformat": 4,
 "nbformat_minor": 4
}
