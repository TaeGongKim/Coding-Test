{
 "cells": [
  {
   "cell_type": "code",
   "execution_count": 4,
   "metadata": {},
   "outputs": [
    {
     "name": "stdout",
     "output_type": "stream",
     "text": [
      "25 6\n",
      "5\n"
     ]
    }
   ],
   "source": [
    "# first answer\n",
    "n, k = map(int, input().split())\n",
    "\n",
    "ans = 0\n",
    "while(n > 1):\n",
    "    if n % k == 0:\n",
    "        n = n//k\n",
    "        ans += 1\n",
    "    else:\n",
    "        n -= 1\n",
    "        ans += 1\n",
    "\n",
    "print(ans)"
   ]
  },
  {
   "cell_type": "code",
   "execution_count": 5,
   "metadata": {},
   "outputs": [
    {
     "name": "stdout",
     "output_type": "stream",
     "text": [
      "25 6\n",
      "5\n"
     ]
    }
   ],
   "source": [
    "# second answer\n",
    "n, k = map(int, input().split())\n",
    "\n",
    "ans = 0\n",
    "while(True):\n",
    "    # 나누어 떨어지는 수가 나올 때까지 한꺼번에 1을 빼줌\n",
    "    target = (n // k) * k # 나누어질 수 있는 수\n",
    "    ans += n - target # 한번에 빼줄 1\n",
    "    n = target\n",
    "    \n",
    "    if n < k:\n",
    "        break\n",
    "    \n",
    "    n //= k\n",
    "    ans += 1\n",
    "\n",
    "# n이 k보다 작고 2보다 클 때 한번에 1을 빼준다.\n",
    "# 1일 때는 0\n",
    "ans += n-1\n",
    "print(ans)"
   ]
  },
  {
   "cell_type": "code",
   "execution_count": null,
   "metadata": {},
   "outputs": [],
   "source": []
  }
 ],
 "metadata": {
  "kernelspec": {
   "display_name": "Python 3",
   "language": "python",
   "name": "python3"
  },
  "language_info": {
   "codemirror_mode": {
    "name": "ipython",
    "version": 3
   },
   "file_extension": ".py",
   "mimetype": "text/x-python",
   "name": "python",
   "nbconvert_exporter": "python",
   "pygments_lexer": "ipython3",
   "version": "3.8.3"
  }
 },
 "nbformat": 4,
 "nbformat_minor": 4
}
