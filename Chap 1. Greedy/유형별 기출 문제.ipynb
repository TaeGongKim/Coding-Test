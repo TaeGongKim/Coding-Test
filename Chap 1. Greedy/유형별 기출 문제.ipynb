{
 "cells": [
  {
   "cell_type": "markdown",
   "metadata": {},
   "source": [
    "# 모험가 길드"
   ]
  },
  {
   "cell_type": "code",
   "execution_count": 1,
   "metadata": {},
   "outputs": [
    {
     "name": "stdout",
     "output_type": "stream",
     "text": [
      "5\n",
      "2 3 1 2 2\n",
      "2\n"
     ]
    }
   ],
   "source": [
    "# first answer\n",
    "n = int(input())\n",
    "n_list = list(map(int, input().split()))\n",
    "n_list.sort(reverse = True)\n",
    "\n",
    "ans = 0\n",
    "while(len(n_list) > 0):\n",
    "    n_max = n_list[0]\n",
    "    del n_list[:n_max]\n",
    "    ans += 1\n",
    "    \n",
    "print(ans)"
   ]
  },
  {
   "cell_type": "code",
   "execution_count": 2,
   "metadata": {},
   "outputs": [
    {
     "name": "stdout",
     "output_type": "stream",
     "text": [
      "5\n",
      "2 3 1 2 2\n",
      "2\n"
     ]
    }
   ],
   "source": [
    "# second answer\n",
    "# 전부 모임을 만들 필요 없었음!\n",
    "n = int(input())\n",
    "n_list = list(map(int, input().split()))\n",
    "n_list.sort()\n",
    "\n",
    "ans = 0\n",
    "count = 0\n",
    "for i in n_list:\n",
    "    count += 1\n",
    "    if count >= i:\n",
    "        ans += 1\n",
    "        count = 0\n",
    "        \n",
    "print(ans)"
   ]
  },
  {
   "cell_type": "markdown",
   "metadata": {},
   "source": [
    "# 곱하기 혹은 더하기"
   ]
  },
  {
   "cell_type": "code",
   "execution_count": 5,
   "metadata": {},
   "outputs": [
    {
     "name": "stdout",
     "output_type": "stream",
     "text": [
      "567\n",
      "210\n"
     ]
    }
   ],
   "source": [
    "# first answer\n",
    "data = input()\n",
    "ans = int(data[0])\n",
    "\n",
    "for i in data[1:]:\n",
    "    i = int(i)\n",
    "    ans = max(ans + i, ans * i)\n",
    "    \n",
    "print(ans)"
   ]
  },
  {
   "cell_type": "code",
   "execution_count": 7,
   "metadata": {},
   "outputs": [
    {
     "name": "stdout",
     "output_type": "stream",
     "text": [
      "567\n",
      "210\n"
     ]
    }
   ],
   "source": [
    "# first answer\n",
    "data = input()\n",
    "ans = int(data[0])\n",
    "\n",
    "for i in data[1:]:\n",
    "    i = int(i)\n",
    "    if ans <= 1 or i <= 1:\n",
    "        ans = ans + i\n",
    "    else:\n",
    "        ans = ans * i\n",
    "    \n",
    "print(ans)"
   ]
  },
  {
   "cell_type": "markdown",
   "metadata": {},
   "source": [
    "# 문자열 더하기"
   ]
  },
  {
   "cell_type": "code",
   "execution_count": 16,
   "metadata": {},
   "outputs": [
    {
     "name": "stdout",
     "output_type": "stream",
     "text": [
      "0001100\n",
      "1\n"
     ]
    }
   ],
   "source": [
    "S = input()\n",
    "val = S[0]\n",
    "ans = 1\n",
    "\n",
    "for i in S[1:]:\n",
    "    if val != i:\n",
    "        ans += 1\n",
    "        val = i\n",
    "        \n",
    "ans = ans // 2\n",
    "print(ans)"
   ]
  },
  {
   "cell_type": "markdown",
   "metadata": {},
   "source": [
    "# 만들 수 없는 금액"
   ]
  },
  {
   "cell_type": "code",
   "execution_count": 17,
   "metadata": {},
   "outputs": [
    {
     "name": "stdout",
     "output_type": "stream",
     "text": [
      "5\n",
      "3 2 1 1 9\n",
      "8\n"
     ]
    }
   ],
   "source": [
    "# first answer\n",
    "n = int(input())\n",
    "data = list(map(int, input().split()))\n",
    "\n",
    "data.sort()\n",
    "S = data[0] # 현재까지 만들 수 있는 금액\n",
    "if S >=2:\n",
    "    print(1)\n",
    "else:\n",
    "    for i in data[1:]:\n",
    "        # 현재까지 만들 수 있는 금액과 다음 동전의 값의 차이가 2이상 차이난다면 다음 금액은 만들 수 없다.\n",
    "        if i-S < 2:\n",
    "            S += i\n",
    "        else:\n",
    "            print(S + 1)\n",
    "        "
   ]
  },
  {
   "cell_type": "code",
   "execution_count": 19,
   "metadata": {},
   "outputs": [
    {
     "name": "stdout",
     "output_type": "stream",
     "text": [
      "5\n",
      "3 2 1 1 9\n",
      "8\n"
     ]
    }
   ],
   "source": [
    "# second answer\n",
    "n = int(input())\n",
    "data = list(map(int, input().split()))\n",
    "data.sort()\n",
    "\n",
    "target = 1 # 현재까지 만들 수 있는 금액 - 1\n",
    "for x in data:\n",
    "    if target < x: # 현재 만들 수 있는 금액보다 큰 동전이 나오면 stop\n",
    "        break\n",
    "    target += x # 현재 만들수 있는 금액 증가\n",
    "    \n",
    "print(target)"
   ]
  },
  {
   "cell_type": "markdown",
   "metadata": {},
   "source": [
    "# 볼링공 고르기"
   ]
  },
  {
   "cell_type": "code",
   "execution_count": 21,
   "metadata": {},
   "outputs": [
    {
     "name": "stdout",
     "output_type": "stream",
     "text": [
      "8 5\n",
      "1 5 4 3 2 4 5 2\n",
      "25\n"
     ]
    }
   ],
   "source": [
    "# first answer\n",
    "import math\n",
    "\n",
    "n, m = map(int, input().split())\n",
    "data = list(map(int, input().split()))\n",
    "\n",
    "m_list = [0] * m\n",
    "for x in data:\n",
    "    m_list[x-1] += 1\n",
    "    \n",
    "ans = math.comb(n, 2)\n",
    "for i in m_list:\n",
    "    if i == 2:\n",
    "        ans -= 1\n",
    "    elif i > 2:\n",
    "        ans -= math.comb(i, 2)\n",
    "        \n",
    "print(ans)"
   ]
  },
  {
   "cell_type": "code",
   "execution_count": 22,
   "metadata": {},
   "outputs": [
    {
     "name": "stdout",
     "output_type": "stream",
     "text": [
      "8 5\n",
      "1 5 4 3 2 4 5 2\n",
      "25\n"
     ]
    }
   ],
   "source": [
    "# second answer\n",
    "n, m = map(int, input().split())\n",
    "data = list(map(int, input().split()))\n",
    "\n",
    "m_list = [0] * 11\n",
    "for x in data:\n",
    "    m_list[x] += 1\n",
    "    \n",
    "ans = 0\n",
    "for i in range(1, m+1):\n",
    "    n -= m_list[i]\n",
    "    ans += m_list[i] * n # 무게가 i개인 볼링공 개수 * B의 볼링공 선택 경우의 수\n",
    "        \n",
    "print(ans)"
   ]
  },
  {
   "cell_type": "markdown",
   "metadata": {},
   "source": [
    "# 무지의 먹방 라이브"
   ]
  },
  {
   "cell_type": "code",
   "execution_count": null,
   "metadata": {},
   "outputs": [],
   "source": [
    "# https://programmers.co.kr/learn/courses/30/lessons/42891"
   ]
  }
 ],
 "metadata": {
  "kernelspec": {
   "display_name": "Python 3",
   "language": "python",
   "name": "python3"
  },
  "language_info": {
   "codemirror_mode": {
    "name": "ipython",
    "version": 3
   },
   "file_extension": ".py",
   "mimetype": "text/x-python",
   "name": "python",
   "nbconvert_exporter": "python",
   "pygments_lexer": "ipython3",
   "version": "3.8.3"
  }
 },
 "nbformat": 4,
 "nbformat_minor": 4
}
