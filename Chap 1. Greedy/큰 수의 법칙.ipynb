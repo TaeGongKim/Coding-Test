{
 "cells": [
  {
   "cell_type": "code",
   "execution_count": 5,
   "metadata": {},
   "outputs": [
    {
     "name": "stdout",
     "output_type": "stream",
     "text": [
      "5 8 3\n",
      "2 4 5 4 6\n",
      "46\n"
     ]
    }
   ],
   "source": [
    "n, m, k = map(int, input().split())\n",
    "\n",
    "# 리스트 생성\n",
    "num_list = list(map(int, input().split()))\n",
    "\n",
    "# 리스트 정렬\n",
    "num_list.sort()\n",
    "first_max = num_list[-1]\n",
    "second_max = num_list[-2]\n",
    "\n",
    "if k >= m:\n",
    "    print(first_max*k)\n",
    "else:\n",
    "    print((first_max * k + second_max) * (m // (k+1)) + first_max * (m % (k+1)))"
   ]
  },
  {
   "cell_type": "code",
   "execution_count": null,
   "metadata": {},
   "outputs": [],
   "source": []
  }
 ],
 "metadata": {
  "kernelspec": {
   "display_name": "Python 3",
   "language": "python",
   "name": "python3"
  },
  "language_info": {
   "codemirror_mode": {
    "name": "ipython",
    "version": 3
   },
   "file_extension": ".py",
   "mimetype": "text/x-python",
   "name": "python",
   "nbconvert_exporter": "python",
   "pygments_lexer": "ipython3",
   "version": "3.8.3"
  }
 },
 "nbformat": 4,
 "nbformat_minor": 4
}
